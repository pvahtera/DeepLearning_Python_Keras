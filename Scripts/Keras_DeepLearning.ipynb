{
 "cells": [
  {
   "cell_type": "markdown",
   "metadata": {},
   "source": [
    "# Keras deep learning"
   ]
  },
  {
   "cell_type": "markdown",
   "metadata": {},
   "source": [
    "## Regression models"
   ]
  },
  {
   "cell_type": "markdown",
   "metadata": {},
   "source": [
    "### 4 steps for modeling process\n",
    "1. Specify architechture (how many layers, how many nodes in each layer, which activation function to use)\n",
    "2. Compile (loss function and details about optimization)\n",
    "3. Fit model (cycle of backpropagation and optimization of model weights)\n",
    "4. Use model for predictions"
   ]
  },
  {
   "cell_type": "code",
   "execution_count": 639,
   "metadata": {},
   "outputs": [],
   "source": [
    "import numpy as np\n",
    "import tensorflow \n",
    "from tensorflow import keras\n",
    "import pandas as pd\n",
    "import matplotlib.pyplot as plt\n",
    "from sklearn.metrics import accuracy_score\n",
    "from sklearn.metrics import precision_score, recall_score\n",
    "from sklearn.metrics import roc_curve\n",
    "from sklearn.metrics import roc_auc_score"
   ]
  },
  {
   "cell_type": "code",
   "execution_count": 640,
   "metadata": {},
   "outputs": [],
   "source": [
    "data = pd.read_excel('work/hourly_wages.xlsx')"
   ]
  },
  {
   "cell_type": "code",
   "execution_count": 641,
   "metadata": {},
   "outputs": [
    {
     "data": {
      "text/html": [
       "<div>\n",
       "<style scoped>\n",
       "    .dataframe tbody tr th:only-of-type {\n",
       "        vertical-align: middle;\n",
       "    }\n",
       "\n",
       "    .dataframe tbody tr th {\n",
       "        vertical-align: top;\n",
       "    }\n",
       "\n",
       "    .dataframe thead th {\n",
       "        text-align: right;\n",
       "    }\n",
       "</style>\n",
       "<table border=\"1\" class=\"dataframe\">\n",
       "  <thead>\n",
       "    <tr style=\"text-align: right;\">\n",
       "      <th></th>\n",
       "      <th>wage_per_hour</th>\n",
       "      <th>union</th>\n",
       "      <th>education_yrs</th>\n",
       "      <th>experience_yrs</th>\n",
       "      <th>age</th>\n",
       "      <th>female</th>\n",
       "      <th>marr</th>\n",
       "      <th>south</th>\n",
       "      <th>manufacturing</th>\n",
       "      <th>construction</th>\n",
       "    </tr>\n",
       "  </thead>\n",
       "  <tbody>\n",
       "    <tr>\n",
       "      <th>0</th>\n",
       "      <td>5.10</td>\n",
       "      <td>0</td>\n",
       "      <td>8</td>\n",
       "      <td>21</td>\n",
       "      <td>35</td>\n",
       "      <td>1</td>\n",
       "      <td>1</td>\n",
       "      <td>0</td>\n",
       "      <td>1</td>\n",
       "      <td>0</td>\n",
       "    </tr>\n",
       "    <tr>\n",
       "      <th>1</th>\n",
       "      <td>4.95</td>\n",
       "      <td>0</td>\n",
       "      <td>9</td>\n",
       "      <td>42</td>\n",
       "      <td>57</td>\n",
       "      <td>1</td>\n",
       "      <td>1</td>\n",
       "      <td>0</td>\n",
       "      <td>1</td>\n",
       "      <td>0</td>\n",
       "    </tr>\n",
       "    <tr>\n",
       "      <th>2</th>\n",
       "      <td>6.67</td>\n",
       "      <td>0</td>\n",
       "      <td>12</td>\n",
       "      <td>1</td>\n",
       "      <td>19</td>\n",
       "      <td>0</td>\n",
       "      <td>0</td>\n",
       "      <td>0</td>\n",
       "      <td>1</td>\n",
       "      <td>0</td>\n",
       "    </tr>\n",
       "    <tr>\n",
       "      <th>3</th>\n",
       "      <td>4.00</td>\n",
       "      <td>0</td>\n",
       "      <td>12</td>\n",
       "      <td>4</td>\n",
       "      <td>22</td>\n",
       "      <td>0</td>\n",
       "      <td>0</td>\n",
       "      <td>0</td>\n",
       "      <td>0</td>\n",
       "      <td>0</td>\n",
       "    </tr>\n",
       "    <tr>\n",
       "      <th>4</th>\n",
       "      <td>7.50</td>\n",
       "      <td>0</td>\n",
       "      <td>12</td>\n",
       "      <td>17</td>\n",
       "      <td>35</td>\n",
       "      <td>0</td>\n",
       "      <td>1</td>\n",
       "      <td>0</td>\n",
       "      <td>0</td>\n",
       "      <td>0</td>\n",
       "    </tr>\n",
       "  </tbody>\n",
       "</table>\n",
       "</div>"
      ],
      "text/plain": [
       "   wage_per_hour  union  education_yrs  experience_yrs  age  female  marr  \\\n",
       "0           5.10      0              8              21   35       1     1   \n",
       "1           4.95      0              9              42   57       1     1   \n",
       "2           6.67      0             12               1   19       0     0   \n",
       "3           4.00      0             12               4   22       0     0   \n",
       "4           7.50      0             12              17   35       0     1   \n",
       "\n",
       "   south  manufacturing  construction  \n",
       "0      0              1             0  \n",
       "1      0              1             0  \n",
       "2      0              1             0  \n",
       "3      0              0             0  \n",
       "4      0              0             0  "
      ]
     },
     "execution_count": 641,
     "metadata": {},
     "output_type": "execute_result"
    }
   ],
   "source": [
    "data.head()"
   ]
  },
  {
   "cell_type": "code",
   "execution_count": 52,
   "metadata": {},
   "outputs": [],
   "source": [
    "predictors = np.array(data.iloc[:, 1:])\n",
    "n_cols = predictors.shape[1] # number of nodes in the input layer\n",
    "target = np.array(data['wage_per_hour'])"
   ]
  },
  {
   "cell_type": "code",
   "execution_count": 55,
   "metadata": {},
   "outputs": [],
   "source": [
    "# sequential models require that each layer has only weights or \n",
    "# connections only to one layer coming to them in the network diagram\n",
    "\n",
    "model = keras.Sequential() # build model ()"
   ]
  },
  {
   "cell_type": "markdown",
   "metadata": {},
   "source": [
    "### This model has two hidden layers and an output layer\n",
    "\n",
    "We start adding layers. Standard layer type is called dense is most common.\n",
    "It simply means that all the nodes in the previous layer are connected to all nodes in current layer."
   ]
  },
  {
   "cell_type": "code",
   "execution_count": 59,
   "metadata": {},
   "outputs": [],
   "source": [
    "# first arg is nr of nodes\n",
    "# the comma after n_cols is an indicator that data can have any nr of rows (datapoints)\n",
    "model.add(keras.layers.Dense(100, activation='relu', input_shape = (n_cols,))) \n",
    "model.add(keras.layers.Dense(100, activation='relu'))\n",
    "model.add(keras.layers.Dense(1)) # output layer"
   ]
  },
  {
   "cell_type": "markdown",
   "metadata": {},
   "source": [
    "### Compiling the model\n",
    "\n",
    "1. Specify optimizer (learning rate). Few algos but quite complex. \"Adam\" algo is good choice, it adjusts the learning rate as it does gradient descent to ensure reasonable values throughout the optimization process\n",
    "2. Loss function. mean_squared_error common for regression problems"
   ]
  },
  {
   "cell_type": "code",
   "execution_count": 60,
   "metadata": {},
   "outputs": [],
   "source": [
    "model.compile(optimizer='adam', loss='mean_squared_error')"
   ]
  },
  {
   "cell_type": "markdown",
   "metadata": {},
   "source": [
    "### Fitting the model\n",
    "\n",
    "Applying backpropagation and gradient descent with data to update the weights\n",
    "\n",
    "Scaling data before fitting can help optimization\n",
    "\n",
    "\n"
   ]
  },
  {
   "cell_type": "code",
   "execution_count": 61,
   "metadata": {},
   "outputs": [
    {
     "name": "stdout",
     "output_type": "stream",
     "text": [
      "Train on 534 samples\n",
      "534/534 [==============================] - 1s 992us/sample - loss: 47.3283\n"
     ]
    },
    {
     "data": {
      "text/plain": [
       "<tensorflow.python.keras.callbacks.History at 0x7ff2ad6698d0>"
      ]
     },
     "execution_count": 61,
     "metadata": {},
     "output_type": "execute_result"
    }
   ],
   "source": [
    "model.fit(predictors, target)"
   ]
  },
  {
   "cell_type": "markdown",
   "metadata": {},
   "source": [
    "## Classification models"
   ]
  },
  {
   "cell_type": "markdown",
   "metadata": {},
   "source": [
    "I use 'categorical_crossentropy' instead of mean squared error. Similar to log loss in that lower is better. \n",
    "I add metrics=['accuracy'] to compile easier diagnostics. \n",
    "In contrast to above, output layer naturally has more nodes (one for each outcome). Also uses 'softmax' activation (results as propabilities). \n",
    "\n",
    "One-hot encoding for categorical outcome variable. "
   ]
  },
  {
   "cell_type": "markdown",
   "metadata": {},
   "source": [
    "### Read data"
   ]
  },
  {
   "cell_type": "code",
   "execution_count": 500,
   "metadata": {},
   "outputs": [
    {
     "name": "stdout",
     "output_type": "stream",
     "text": [
      "(1309, 8)\n"
     ]
    },
    {
     "data": {
      "text/html": [
       "<div>\n",
       "<style scoped>\n",
       "    .dataframe tbody tr th:only-of-type {\n",
       "        vertical-align: middle;\n",
       "    }\n",
       "\n",
       "    .dataframe tbody tr th {\n",
       "        vertical-align: top;\n",
       "    }\n",
       "\n",
       "    .dataframe thead th {\n",
       "        text-align: right;\n",
       "    }\n",
       "</style>\n",
       "<table border=\"1\" class=\"dataframe\">\n",
       "  <thead>\n",
       "    <tr style=\"text-align: right;\">\n",
       "      <th></th>\n",
       "      <th>pclass</th>\n",
       "      <th>survived</th>\n",
       "      <th>sex</th>\n",
       "      <th>age</th>\n",
       "      <th>sibsp</th>\n",
       "      <th>parch</th>\n",
       "      <th>fare</th>\n",
       "      <th>embarked</th>\n",
       "    </tr>\n",
       "  </thead>\n",
       "  <tbody>\n",
       "    <tr>\n",
       "      <th>0</th>\n",
       "      <td>1</td>\n",
       "      <td>1</td>\n",
       "      <td>female</td>\n",
       "      <td>29.0</td>\n",
       "      <td>0</td>\n",
       "      <td>0</td>\n",
       "      <td>211.3375</td>\n",
       "      <td>S</td>\n",
       "    </tr>\n",
       "    <tr>\n",
       "      <th>1</th>\n",
       "      <td>1</td>\n",
       "      <td>1</td>\n",
       "      <td>male</td>\n",
       "      <td>NaN</td>\n",
       "      <td>1</td>\n",
       "      <td>2</td>\n",
       "      <td>151.5500</td>\n",
       "      <td>S</td>\n",
       "    </tr>\n",
       "    <tr>\n",
       "      <th>2</th>\n",
       "      <td>1</td>\n",
       "      <td>0</td>\n",
       "      <td>female</td>\n",
       "      <td>2.0</td>\n",
       "      <td>1</td>\n",
       "      <td>2</td>\n",
       "      <td>151.5500</td>\n",
       "      <td>S</td>\n",
       "    </tr>\n",
       "    <tr>\n",
       "      <th>3</th>\n",
       "      <td>1</td>\n",
       "      <td>0</td>\n",
       "      <td>male</td>\n",
       "      <td>30.0</td>\n",
       "      <td>1</td>\n",
       "      <td>2</td>\n",
       "      <td>151.5500</td>\n",
       "      <td>S</td>\n",
       "    </tr>\n",
       "    <tr>\n",
       "      <th>4</th>\n",
       "      <td>1</td>\n",
       "      <td>0</td>\n",
       "      <td>female</td>\n",
       "      <td>25.0</td>\n",
       "      <td>1</td>\n",
       "      <td>2</td>\n",
       "      <td>151.5500</td>\n",
       "      <td>S</td>\n",
       "    </tr>\n",
       "  </tbody>\n",
       "</table>\n",
       "</div>"
      ],
      "text/plain": [
       "   pclass  survived     sex   age  sibsp  parch      fare embarked\n",
       "0       1         1  female  29.0      0      0  211.3375        S\n",
       "1       1         1    male   NaN      1      2  151.5500        S\n",
       "2       1         0  female   2.0      1      2  151.5500        S\n",
       "3       1         0    male  30.0      1      2  151.5500        S\n",
       "4       1         0  female  25.0      1      2  151.5500        S"
      ]
     },
     "execution_count": 500,
     "metadata": {},
     "output_type": "execute_result"
    }
   ],
   "source": [
    "df = pd.read_excel('work/titanic_full.xlsx')\n",
    "df = df.drop(['name', 'ticket', 'cabin', 'home.dest'], axis=1)\n",
    "print(df.shape)\n",
    "df.head()"
   ]
  },
  {
   "cell_type": "markdown",
   "metadata": {},
   "source": [
    "### Make dummies and modify data"
   ]
  },
  {
   "cell_type": "code",
   "execution_count": 516,
   "metadata": {},
   "outputs": [],
   "source": [
    "df1 = pd.get_dummies(df, dummy_na=False)\n",
    "df1['age_was_missing'] = np.where(df1['age'].isna() == True, 1, 0)\n",
    "df1 = df1.dropna()"
   ]
  },
  {
   "cell_type": "markdown",
   "metadata": {},
   "source": [
    "### Modify age"
   ]
  },
  {
   "cell_type": "code",
   "execution_count": 517,
   "metadata": {},
   "outputs": [
    {
     "data": {
      "text/html": [
       "<div>\n",
       "<style scoped>\n",
       "    .dataframe tbody tr th:only-of-type {\n",
       "        vertical-align: middle;\n",
       "    }\n",
       "\n",
       "    .dataframe tbody tr th {\n",
       "        vertical-align: top;\n",
       "    }\n",
       "\n",
       "    .dataframe thead th {\n",
       "        text-align: right;\n",
       "    }\n",
       "</style>\n",
       "<table border=\"1\" class=\"dataframe\">\n",
       "  <thead>\n",
       "    <tr style=\"text-align: right;\">\n",
       "      <th></th>\n",
       "      <th>pclass</th>\n",
       "      <th>survived</th>\n",
       "      <th>age</th>\n",
       "      <th>sibsp</th>\n",
       "      <th>parch</th>\n",
       "      <th>fare</th>\n",
       "      <th>sex_female</th>\n",
       "      <th>sex_male</th>\n",
       "      <th>embarked_C</th>\n",
       "      <th>embarked_Q</th>\n",
       "      <th>embarked_S</th>\n",
       "      <th>age_was_missing</th>\n",
       "    </tr>\n",
       "  </thead>\n",
       "  <tbody>\n",
       "    <tr>\n",
       "      <th>0</th>\n",
       "      <td>1</td>\n",
       "      <td>1</td>\n",
       "      <td>29.0</td>\n",
       "      <td>0</td>\n",
       "      <td>0</td>\n",
       "      <td>211.3375</td>\n",
       "      <td>1</td>\n",
       "      <td>0</td>\n",
       "      <td>0</td>\n",
       "      <td>0</td>\n",
       "      <td>1</td>\n",
       "      <td>0</td>\n",
       "    </tr>\n",
       "    <tr>\n",
       "      <th>2</th>\n",
       "      <td>1</td>\n",
       "      <td>0</td>\n",
       "      <td>2.0</td>\n",
       "      <td>1</td>\n",
       "      <td>2</td>\n",
       "      <td>151.5500</td>\n",
       "      <td>1</td>\n",
       "      <td>0</td>\n",
       "      <td>0</td>\n",
       "      <td>0</td>\n",
       "      <td>1</td>\n",
       "      <td>0</td>\n",
       "    </tr>\n",
       "    <tr>\n",
       "      <th>3</th>\n",
       "      <td>1</td>\n",
       "      <td>0</td>\n",
       "      <td>30.0</td>\n",
       "      <td>1</td>\n",
       "      <td>2</td>\n",
       "      <td>151.5500</td>\n",
       "      <td>0</td>\n",
       "      <td>1</td>\n",
       "      <td>0</td>\n",
       "      <td>0</td>\n",
       "      <td>1</td>\n",
       "      <td>0</td>\n",
       "    </tr>\n",
       "    <tr>\n",
       "      <th>4</th>\n",
       "      <td>1</td>\n",
       "      <td>0</td>\n",
       "      <td>25.0</td>\n",
       "      <td>1</td>\n",
       "      <td>2</td>\n",
       "      <td>151.5500</td>\n",
       "      <td>1</td>\n",
       "      <td>0</td>\n",
       "      <td>0</td>\n",
       "      <td>0</td>\n",
       "      <td>1</td>\n",
       "      <td>0</td>\n",
       "    </tr>\n",
       "    <tr>\n",
       "      <th>5</th>\n",
       "      <td>1</td>\n",
       "      <td>1</td>\n",
       "      <td>48.0</td>\n",
       "      <td>0</td>\n",
       "      <td>0</td>\n",
       "      <td>26.5500</td>\n",
       "      <td>0</td>\n",
       "      <td>1</td>\n",
       "      <td>0</td>\n",
       "      <td>0</td>\n",
       "      <td>1</td>\n",
       "      <td>0</td>\n",
       "    </tr>\n",
       "  </tbody>\n",
       "</table>\n",
       "</div>"
      ],
      "text/plain": [
       "   pclass  survived   age  sibsp  parch      fare  sex_female  sex_male  \\\n",
       "0       1         1  29.0      0      0  211.3375           1         0   \n",
       "2       1         0   2.0      1      2  151.5500           1         0   \n",
       "3       1         0  30.0      1      2  151.5500           0         1   \n",
       "4       1         0  25.0      1      2  151.5500           1         0   \n",
       "5       1         1  48.0      0      0   26.5500           0         1   \n",
       "\n",
       "   embarked_C  embarked_Q  embarked_S  age_was_missing  \n",
       "0           0           0           1                0  \n",
       "2           0           0           1                0  \n",
       "3           0           0           1                0  \n",
       "4           0           0           1                0  \n",
       "5           0           0           1                0  "
      ]
     },
     "execution_count": 517,
     "metadata": {},
     "output_type": "execute_result"
    }
   ],
   "source": [
    "without_outliers = df1[df1['age'] < 120]\n",
    "age_mean = without_outliers['age'].mean()\n",
    "df1['age'] = np.where(df1['age'] > 120, age_mean, df1['age'])\n",
    "df1.head()"
   ]
  },
  {
   "cell_type": "code",
   "execution_count": 528,
   "metadata": {},
   "outputs": [],
   "source": [
    "predictors = df1.drop('survived', axis=1) # drop na"
   ]
  },
  {
   "cell_type": "code",
   "execution_count": 529,
   "metadata": {},
   "outputs": [
    {
     "data": {
      "text/plain": [
       "(array([ 71.,  59., 268., 259., 161., 108.,  65.,  40.,  10.,   3.]),\n",
       " array([ 0.17 ,  8.153, 16.136, 24.119, 32.102, 40.085, 48.068, 56.051,\n",
       "        64.034, 72.017, 80.   ]),\n",
       " <a list of 10 Patch objects>)"
      ]
     },
     "execution_count": 529,
     "metadata": {},
     "output_type": "execute_result"
    },
    {
     "data": {
      "image/png": "[encoded data removed]",
      "text/plain": [
       "<Figure size 432x288 with 1 Axes>"
      ]
     },
     "metadata": {
      "needs_background": "light"
     },
     "output_type": "display_data"
    }
   ],
   "source": [
    "plt.hist(predictors['age'])"
   ]
  },
  {
   "cell_type": "markdown",
   "metadata": {},
   "source": [
    "### Normalize data"
   ]
  },
  {
   "cell_type": "code",
   "execution_count": 530,
   "metadata": {},
   "outputs": [],
   "source": [
    "from sklearn import preprocessing\n",
    "#colnames = predictors.columns\n",
    "colnames = ['age_scaled', 'fare_scaled']\n",
    "scaler = preprocessing.StandardScaler()\n",
    "scaled_predictors = pd.DataFrame(scaler.fit_transform(predictors[['age', 'fare']]), columns=colnames)"
   ]
  },
  {
   "cell_type": "code",
   "execution_count": 531,
   "metadata": {},
   "outputs": [],
   "source": [
    "#reset index \n",
    "scaled_predictors = scaled_predictors.reset_index(drop=True)\n",
    "predictors = predictors.reset_index(drop=True)\n",
    "predictors = predictors.join(scaled_predictors)"
   ]
  },
  {
   "cell_type": "markdown",
   "metadata": {},
   "source": [
    "### Drop either scaled or unscaled age and fare"
   ]
  },
  {
   "cell_type": "code",
   "execution_count": 532,
   "metadata": {},
   "outputs": [],
   "source": [
    "predictors = predictors.drop(['age', 'fare'], axis=1)\n",
    "#predictors = predictors.drop(['age_scaled', 'fare_scaled'], axis=1)"
   ]
  },
  {
   "cell_type": "markdown",
   "metadata": {},
   "source": [
    "### Split between training and testing data"
   ]
  },
  {
   "cell_type": "code",
   "execution_count": 533,
   "metadata": {},
   "outputs": [],
   "source": [
    "from sklearn.model_selection import train_test_split\n",
    "train_X, test_X, train_Y, test_Y = train_test_split(predictors, df1['survived'], test_size=0.20)\n",
    "#train_X, test_X, train_Y, test_Y = train_test_split(scaled_predictors, df1['survived'], test_size=0.25)"
   ]
  },
  {
   "cell_type": "code",
   "execution_count": 534,
   "metadata": {},
   "outputs": [
    {
     "name": "stdout",
     "output_type": "stream",
     "text": [
      "0.7998084291187739\n",
      "0.20019157088122605\n"
     ]
    }
   ],
   "source": [
    "# Ensure training dataset has only % of original X data\n",
    "print(train_X.shape[0] / df1.shape[0])\n",
    "# Ensure testing dataset has only % of original X data\n",
    "print(test_X.shape[0] / df1.shape[0])"
   ]
  },
  {
   "cell_type": "code",
   "execution_count": 535,
   "metadata": {},
   "outputs": [],
   "source": [
    "target_train = keras.utils.to_categorical(train_Y)\n",
    "predictors_train = np.array(train_X)\n",
    "n_cols = df1.shape[1] - 1"
   ]
  },
  {
   "cell_type": "markdown",
   "metadata": {},
   "source": [
    "### Build the model"
   ]
  },
  {
   "cell_type": "code",
   "execution_count": 571,
   "metadata": {},
   "outputs": [
    {
     "name": "stdout",
     "output_type": "stream",
     "text": [
      "Train on 835 samples\n",
      "Epoch 1/100\n",
      "835/835 [==============================] - 0s 586us/sample - loss: 0.7600 - accuracy: 0.3617\n",
      "Epoch 2/100\n",
      "835/835 [==============================] - 0s 8us/sample - loss: 0.7486 - accuracy: 0.3557\n",
      "Epoch 3/100\n",
      "835/835 [==============================] - 0s 9us/sample - loss: 0.7387 - accuracy: 0.3749\n",
      "Epoch 4/100\n",
      "835/835 [==============================] - 0s 9us/sample - loss: 0.7299 - accuracy: 0.3760\n",
      "Epoch 5/100\n",
      "835/835 [==============================] - 0s 12us/sample - loss: 0.7221 - accuracy: 0.4000\n",
      "Epoch 6/100\n",
      "835/835 [==============================] - 0s 7us/sample - loss: 0.7151 - accuracy: 0.4024\n",
      "Epoch 7/100\n",
      "835/835 [==============================] - 0s 10us/sample - loss: 0.7089 - accuracy: 0.4168\n",
      "Epoch 8/100\n",
      "835/835 [==============================] - 0s 10us/sample - loss: 0.7033 - accuracy: 0.4335\n",
      "Epoch 9/100\n",
      "835/835 [==============================] - 0s 9us/sample - loss: 0.6982 - accuracy: 0.4563\n",
      "Epoch 10/100\n",
      "835/835 [==============================] - 0s 13us/sample - loss: 0.6936 - accuracy: 0.4910\n",
      "Epoch 11/100\n",
      "835/835 [==============================] - 0s 13us/sample - loss: 0.6894 - accuracy: 0.4994\n",
      "Epoch 12/100\n",
      "835/835 [==============================] - 0s 7us/sample - loss: 0.6855 - accuracy: 0.5329\n",
      "Epoch 13/100\n",
      "835/835 [==============================] - 0s 10us/sample - loss: 0.6820 - accuracy: 0.5545\n",
      "Epoch 14/100\n",
      "835/835 [==============================] - 0s 8us/sample - loss: 0.6786 - accuracy: 0.5641\n",
      "Epoch 15/100\n",
      "835/835 [==============================] - 0s 10us/sample - loss: 0.6756 - accuracy: 0.5749\n",
      "Epoch 16/100\n",
      "835/835 [==============================] - 0s 7us/sample - loss: 0.6727 - accuracy: 0.5892\n",
      "Epoch 17/100\n",
      "835/835 [==============================] - 0s 7us/sample - loss: 0.6700 - accuracy: 0.5916\n",
      "Epoch 18/100\n",
      "835/835 [==============================] - 0s 11us/sample - loss: 0.6674 - accuracy: 0.6084\n",
      "Epoch 19/100\n",
      "835/835 [==============================] - 0s 9us/sample - loss: 0.6650 - accuracy: 0.6108\n",
      "Epoch 20/100\n",
      "835/835 [==============================] - 0s 17us/sample - loss: 0.6627 - accuracy: 0.6156\n",
      "Epoch 21/100\n",
      "835/835 [==============================] - 0s 7us/sample - loss: 0.6605 - accuracy: 0.6144\n",
      "Epoch 22/100\n",
      "835/835 [==============================] - 0s 6us/sample - loss: 0.6583 - accuracy: 0.6168\n",
      "Epoch 23/100\n",
      "835/835 [==============================] - 0s 9us/sample - loss: 0.6563 - accuracy: 0.6168\n",
      "Epoch 24/100\n",
      "835/835 [==============================] - 0s 12us/sample - loss: 0.6543 - accuracy: 0.6168\n",
      "Epoch 25/100\n",
      "835/835 [==============================] - 0s 11us/sample - loss: 0.6524 - accuracy: 0.6251\n",
      "Epoch 26/100\n",
      "835/835 [==============================] - 0s 9us/sample - loss: 0.6505 - accuracy: 0.6228\n",
      "Epoch 27/100\n",
      "835/835 [==============================] - 0s 7us/sample - loss: 0.6487 - accuracy: 0.6240\n",
      "Epoch 28/100\n",
      "835/835 [==============================] - 0s 7us/sample - loss: 0.6469 - accuracy: 0.6335\n",
      "Epoch 29/100\n",
      "835/835 [==============================] - 0s 12us/sample - loss: 0.6452 - accuracy: 0.6383\n",
      "Epoch 30/100\n",
      "835/835 [==============================] - 0s 10us/sample - loss: 0.6436 - accuracy: 0.6407\n",
      "Epoch 31/100\n",
      "835/835 [==============================] - 0s 6us/sample - loss: 0.6419 - accuracy: 0.6419\n",
      "Epoch 32/100\n",
      "835/835 [==============================] - 0s 7us/sample - loss: 0.6403 - accuracy: 0.6419\n",
      "Epoch 33/100\n",
      "835/835 [==============================] - 0s 19us/sample - loss: 0.6388 - accuracy: 0.6419\n",
      "Epoch 34/100\n",
      "835/835 [==============================] - 0s 14us/sample - loss: 0.6372 - accuracy: 0.6431\n",
      "Epoch 35/100\n",
      "835/835 [==============================] - 0s 13us/sample - loss: 0.6357 - accuracy: 0.6431\n",
      "Epoch 36/100\n",
      "835/835 [==============================] - 0s 15us/sample - loss: 0.6342 - accuracy: 0.6431\n",
      "Epoch 37/100\n",
      "835/835 [==============================] - 0s 9us/sample - loss: 0.6328 - accuracy: 0.6431\n",
      "Epoch 38/100\n",
      "835/835 [==============================] - 0s 8us/sample - loss: 0.6314 - accuracy: 0.6443\n",
      "Epoch 39/100\n",
      "835/835 [==============================] - 0s 14us/sample - loss: 0.6300 - accuracy: 0.6455\n",
      "Epoch 40/100\n",
      "835/835 [==============================] - 0s 11us/sample - loss: 0.6286 - accuracy: 0.6467\n",
      "Epoch 41/100\n",
      "835/835 [==============================] - 0s 9us/sample - loss: 0.6272 - accuracy: 0.6479\n",
      "Epoch 42/100\n",
      "835/835 [==============================] - 0s 15us/sample - loss: 0.6259 - accuracy: 0.6491\n",
      "Epoch 43/100\n",
      "835/835 [==============================] - 0s 9us/sample - loss: 0.6245 - accuracy: 0.6503\n",
      "Epoch 44/100\n",
      "835/835 [==============================] - 0s 11us/sample - loss: 0.6232 - accuracy: 0.6527\n",
      "Epoch 45/100\n",
      "835/835 [==============================] - 0s 10us/sample - loss: 0.6219 - accuracy: 0.6527\n",
      "Epoch 46/100\n",
      "835/835 [==============================] - 0s 10us/sample - loss: 0.6206 - accuracy: 0.6575\n",
      "Epoch 47/100\n",
      "835/835 [==============================] - 0s 19us/sample - loss: 0.6194 - accuracy: 0.6599\n",
      "Epoch 48/100\n",
      "835/835 [==============================] - 0s 11us/sample - loss: 0.6181 - accuracy: 0.6599\n",
      "Epoch 49/100\n",
      "835/835 [==============================] - 0s 17us/sample - loss: 0.6169 - accuracy: 0.6623\n",
      "Epoch 50/100\n",
      "835/835 [==============================] - 0s 10us/sample - loss: 0.6156 - accuracy: 0.6683\n",
      "Epoch 51/100\n",
      "835/835 [==============================] - 0s 9us/sample - loss: 0.6144 - accuracy: 0.6683\n",
      "Epoch 52/100\n",
      "835/835 [==============================] - 0s 16us/sample - loss: 0.6132 - accuracy: 0.6683\n",
      "Epoch 53/100\n",
      "835/835 [==============================] - 0s 13us/sample - loss: 0.6121 - accuracy: 0.6683\n",
      "Epoch 54/100\n",
      "835/835 [==============================] - 0s 10us/sample - loss: 0.6109 - accuracy: 0.6707\n",
      "Epoch 55/100\n",
      "835/835 [==============================] - 0s 12us/sample - loss: 0.6097 - accuracy: 0.6731\n",
      "Epoch 56/100\n",
      "835/835 [==============================] - 0s 7us/sample - loss: 0.6086 - accuracy: 0.6743\n",
      "Epoch 57/100\n",
      "835/835 [==============================] - 0s 9us/sample - loss: 0.6075 - accuracy: 0.6754\n",
      "Epoch 58/100\n",
      "835/835 [==============================] - 0s 21us/sample - loss: 0.6064 - accuracy: 0.6778\n",
      "Epoch 59/100\n",
      "835/835 [==============================] - 0s 8us/sample - loss: 0.6053 - accuracy: 0.6802\n",
      "Epoch 60/100\n",
      "835/835 [==============================] - 0s 9us/sample - loss: 0.6042 - accuracy: 0.6814\n",
      "Epoch 61/100\n",
      "835/835 [==============================] - 0s 9us/sample - loss: 0.6031 - accuracy: 0.6850\n",
      "Epoch 62/100\n",
      "835/835 [==============================] - 0s 11us/sample - loss: 0.6020 - accuracy: 0.6874\n",
      "Epoch 63/100\n",
      "835/835 [==============================] - 0s 12us/sample - loss: 0.6010 - accuracy: 0.6874\n",
      "Epoch 64/100\n",
      "835/835 [==============================] - 0s 13us/sample - loss: 0.6000 - accuracy: 0.6874\n",
      "Epoch 65/100\n",
      "835/835 [==============================] - 0s 13us/sample - loss: 0.5989 - accuracy: 0.6886\n",
      "Epoch 66/100\n",
      "835/835 [==============================] - 0s 11us/sample - loss: 0.5979 - accuracy: 0.6886\n",
      "Epoch 67/100\n",
      "835/835 [==============================] - 0s 8us/sample - loss: 0.5969 - accuracy: 0.6946\n",
      "Epoch 68/100\n",
      "835/835 [==============================] - 0s 12us/sample - loss: 0.5959 - accuracy: 0.6958\n",
      "Epoch 69/100\n",
      "835/835 [==============================] - 0s 8us/sample - loss: 0.5949 - accuracy: 0.6982\n",
      "Epoch 70/100\n",
      "835/835 [==============================] - 0s 7us/sample - loss: 0.5940 - accuracy: 0.6994\n",
      "Epoch 71/100\n",
      "835/835 [==============================] - 0s 8us/sample - loss: 0.5930 - accuracy: 0.7006\n",
      "Epoch 72/100\n",
      "835/835 [==============================] - 0s 10us/sample - loss: 0.5921 - accuracy: 0.7018\n",
      "Epoch 73/100\n",
      "835/835 [==============================] - 0s 9us/sample - loss: 0.5911 - accuracy: 0.7030\n",
      "Epoch 74/100\n",
      "835/835 [==============================] - 0s 9us/sample - loss: 0.5902 - accuracy: 0.7102\n",
      "Epoch 75/100\n",
      "835/835 [==============================] - 0s 8us/sample - loss: 0.5893 - accuracy: 0.7102\n",
      "Epoch 76/100\n",
      "835/835 [==============================] - 0s 8us/sample - loss: 0.5884 - accuracy: 0.7174\n",
      "Epoch 77/100\n",
      "835/835 [==============================] - 0s 13us/sample - loss: 0.5875 - accuracy: 0.7186\n",
      "Epoch 78/100\n",
      "835/835 [==============================] - 0s 7us/sample - loss: 0.5866 - accuracy: 0.7186\n",
      "Epoch 79/100\n",
      "835/835 [==============================] - 0s 12us/sample - loss: 0.5857 - accuracy: 0.7198\n"
     ]
    },
    {
     "name": "stdout",
     "output_type": "stream",
     "text": [
      "Epoch 80/100\n",
      "835/835 [==============================] - 0s 9us/sample - loss: 0.5848 - accuracy: 0.7222\n",
      "Epoch 81/100\n",
      "835/835 [==============================] - 0s 8us/sample - loss: 0.5839 - accuracy: 0.7234\n",
      "Epoch 82/100\n",
      "835/835 [==============================] - 0s 8us/sample - loss: 0.5831 - accuracy: 0.7281\n",
      "Epoch 83/100\n",
      "835/835 [==============================] - 0s 21us/sample - loss: 0.5822 - accuracy: 0.7293\n",
      "Epoch 84/100\n",
      "835/835 [==============================] - 0s 12us/sample - loss: 0.5814 - accuracy: 0.7305\n",
      "Epoch 85/100\n",
      "835/835 [==============================] - 0s 9us/sample - loss: 0.5805 - accuracy: 0.7353\n",
      "Epoch 86/100\n",
      "835/835 [==============================] - 0s 8us/sample - loss: 0.5797 - accuracy: 0.7377\n",
      "Epoch 87/100\n",
      "835/835 [==============================] - 0s 8us/sample - loss: 0.5789 - accuracy: 0.7425\n",
      "Epoch 88/100\n",
      "835/835 [==============================] - 0s 9us/sample - loss: 0.5781 - accuracy: 0.7425\n",
      "Epoch 89/100\n",
      "835/835 [==============================] - 0s 13us/sample - loss: 0.5773 - accuracy: 0.7413\n",
      "Epoch 90/100\n",
      "835/835 [==============================] - 0s 12us/sample - loss: 0.5765 - accuracy: 0.7425\n",
      "Epoch 91/100\n",
      "835/835 [==============================] - 0s 10us/sample - loss: 0.5757 - accuracy: 0.7437\n",
      "Epoch 92/100\n",
      "835/835 [==============================] - 0s 9us/sample - loss: 0.5749 - accuracy: 0.7461\n",
      "Epoch 93/100\n",
      "835/835 [==============================] - 0s 13us/sample - loss: 0.5741 - accuracy: 0.7461\n",
      "Epoch 94/100\n",
      "835/835 [==============================] - 0s 11us/sample - loss: 0.5733 - accuracy: 0.7485\n",
      "Epoch 95/100\n",
      "835/835 [==============================] - 0s 9us/sample - loss: 0.5726 - accuracy: 0.7485\n",
      "Epoch 96/100\n",
      "835/835 [==============================] - 0s 15us/sample - loss: 0.5718 - accuracy: 0.7509\n",
      "Epoch 97/100\n",
      "835/835 [==============================] - 0s 10us/sample - loss: 0.5711 - accuracy: 0.7521\n",
      "Epoch 98/100\n",
      "835/835 [==============================] - 0s 12us/sample - loss: 0.5703 - accuracy: 0.7533\n",
      "Epoch 99/100\n",
      "835/835 [==============================] - 0s 8us/sample - loss: 0.5696 - accuracy: 0.7557\n",
      "Epoch 100/100\n",
      "835/835 [==============================] - 0s 7us/sample - loss: 0.5688 - accuracy: 0.7569\n"
     ]
    },
    {
     "data": {
      "text/plain": [
       "<tensorflow.python.keras.callbacks.History at 0x7ff229b9f908>"
      ]
     },
     "execution_count": 571,
     "metadata": {},
     "output_type": "execute_result"
    }
   ],
   "source": [
    "# Set up the model\n",
    "model = keras.Sequential()\n",
    "\n",
    "# Add the first layer\n",
    "model.add(keras.layers.Dense(100, activation='relu', input_shape=(n_cols,)))\n",
    "\n",
    "#model.add(keras.layers.Dense(1000, activation='relu', input_shape=(n_cols,)))\n",
    "\n",
    "#model.add(keras.layers.Dense(1000, activation='relu', input_shape=(n_cols,)))\n",
    "\n",
    "# Add the output layer\n",
    "model.add(keras.layers.Dense(2, activation='softmax'))\n",
    "\n",
    "# Compile the model\n",
    "model.compile(optimizer='sgd', loss='categorical_crossentropy', metrics=['accuracy'])\n",
    "\n",
    "# Fit the model\n",
    "#model.fit(predictors_train, target_train)\n",
    "model.fit(predictors_train, target_train, epochs=100, batch_size=len(predictors_train))\n"
   ]
  },
  {
   "cell_type": "markdown",
   "metadata": {},
   "source": [
    "## Using models for prediction"
   ]
  },
  {
   "cell_type": "markdown",
   "metadata": {},
   "source": [
    "### Actual prediction"
   ]
  },
  {
   "cell_type": "code",
   "execution_count": 645,
   "metadata": {},
   "outputs": [
    {
     "name": "stdout",
     "output_type": "stream",
     "text": [
      "[0.86237997 0.77152324 0.77392787 0.5865409  0.49318233 0.56668174\n",
      " 0.5592997  0.56911767 0.8718145  0.43864974 0.7831808  0.5772773\n",
      " 0.5138588  0.57644546 0.7748149  0.50241506 0.14476067 0.48253796\n",
      " 0.46459648 0.4776221 ]\n"
     ]
    }
   ],
   "source": [
    "predictors_test = np.array(test_X)\n",
    "\n",
    "# Calculate predictions: predictions\n",
    "predictions = model.predict(predictors_test)\n",
    "\n",
    "#predictions_res = model.predict_classes(predictors_test)\n",
    "# Calculate predicted probability of survival: predicted_prob_true\n",
    "predicted_prob_true = predictions[:,1]\n",
    "\n",
    "# print predicted_prob_true\n",
    "print(predicted_prob_true[0:20])"
   ]
  },
  {
   "cell_type": "markdown",
   "metadata": {},
   "source": [
    "# Evaluating results (traditional scikit learn + Keras)"
   ]
  },
  {
   "cell_type": "markdown",
   "metadata": {},
   "source": [
    "### Accuracy, precision, recall"
   ]
  },
  {
   "cell_type": "code",
   "execution_count": 599,
   "metadata": {},
   "outputs": [
    {
     "name": "stdout",
     "output_type": "stream",
     "text": [
      "Test accuracy: 0.7321, Test precision: 0.907, Test recall: 0.4286\n"
     ]
    }
   ],
   "source": [
    "test_accuracy = round(accuracy_score(test_Y, predictions_res), 4)\n",
    "test_precision = round(precision_score(test_Y, predictions_res), 4)\n",
    "test_recall = round(recall_score(test_Y, predictions_res), 4)\n",
    "\n",
    "print('Test accuracy: {}, Test precision: {}, Test recall: {}' .format(test_accuracy, test_precision, test_recall))"
   ]
  },
  {
   "cell_type": "markdown",
   "metadata": {},
   "source": [
    "### ROC curves"
   ]
  },
  {
   "cell_type": "code",
   "execution_count": 611,
   "metadata": {},
   "outputs": [
    {
     "name": "stdout",
     "output_type": "stream",
     "text": [
      "AUC: 0.697\n"
     ]
    }
   ],
   "source": [
    "# calculate AUC\n",
    "auc = roc_auc_score(test_Y, predictions_res)\n",
    "print('AUC: %.3f' % auc)"
   ]
  },
  {
   "cell_type": "code",
   "execution_count": 613,
   "metadata": {},
   "outputs": [
    {
     "name": "stdout",
     "output_type": "stream",
     "text": [
      "No Skill: ROC AUC=0.500\n",
      "Logistic: ROC AUC=0.697\n"
     ]
    }
   ],
   "source": [
    "# Get the baseline\n",
    "ns_probs = [0 for _ in range(len(test_Y))]\n",
    "ns_auc = roc_auc_score(test_Y, ns_probs)\n",
    "\n",
    "print('No Skill: ROC AUC=%.3f' % (ns_auc))\n",
    "print('Logistic: ROC AUC=%.3f' % (auc))"
   ]
  },
  {
   "cell_type": "code",
   "execution_count": 614,
   "metadata": {},
   "outputs": [],
   "source": [
    "# calculate roc curves\n",
    "ns_fpr, ns_tpr, _ = roc_curve(test_Y, ns_probs)\n",
    "fpr, tpr, _ = roc_curve(test_Y, predictions_res)"
   ]
  },
  {
   "cell_type": "code",
   "execution_count": 615,
   "metadata": {},
   "outputs": [
    {
     "data": {
      "image/png": "[encoded data removed]",
      "text/plain": [
       "<Figure size 432x288 with 1 Axes>"
      ]
     },
     "metadata": {
      "needs_background": "light"
     },
     "output_type": "display_data"
    }
   ],
   "source": [
    "# plot the roc curve for the model\n",
    "plt.plot(ns_fpr, ns_tpr, linestyle='--', label='Baseline')\n",
    "plt.plot(fpr, tpr, marker='.', label='Keras.Sequential')\n",
    "# axis labels\n",
    "plt.xlabel('False Positive Rate')\n",
    "plt.ylabel('True Positive Rate')\n",
    "# show the legend\n",
    "plt.legend()\n",
    "# show the plot\n",
    "plt.show()"
   ]
  },
  {
   "cell_type": "markdown",
   "metadata": {},
   "source": [
    "# Model optimization\n",
    "## how to choose model architechture and optimization arguments"
   ]
  },
  {
   "cell_type": "code",
   "execution_count": 632,
   "metadata": {},
   "outputs": [],
   "source": [
    "def get_new_model():\n",
    "    ''' Function for creating a new model '''\n",
    "    model = keras.Sequential()\n",
    "    model.add(keras.layers.Dense(100, activation='relu', input_shape=(n_cols,)))\n",
    "    model.add(keras.layers.Dense(100, activation='relu'))\n",
    "    model.add(keras.layers.Dense(2, activation='softmax'))\n",
    "    return(model)"
   ]
  },
  {
   "cell_type": "markdown",
   "metadata": {},
   "source": [
    "Too small learning rates can cause a model to not improve in a significant way and too large might take us too far. \n",
    "Easiest way to see effect of different learning rates is to use the simplest optimizer - stochastic gradient descent"
   ]
  },
  {
   "cell_type": "code",
   "execution_count": 633,
   "metadata": {},
   "outputs": [],
   "source": [
    "lr_to_test = [.000001, 0.01, 1]"
   ]
  },
  {
   "cell_type": "markdown",
   "metadata": {},
   "source": [
    "In the loop I compile the model with SGD using a different learning rate. \n",
    "This replaces the previously used 'adam' optimizer. \n",
    "\n",
    "K-fold cross-validation used here, even though computational expense might be large for bigger datasets. \n",
    "\n",
    "Early stopping is used also.Patience means how many epochs do we go through before we stop training the model - 2 or 3 are often reasonable values for it. By default Keras trains for 10 epochs. With a smart logic we can set a higher or lower number of epochs as needed, and the model will stop once the validation loss stops improving."
   ]
  },
  {
   "cell_type": "code",
   "execution_count": 652,
   "metadata": {},
   "outputs": [
    {
     "name": "stdout",
     "output_type": "stream",
     "text": [
      "\n",
      "\n",
      "Testing model with learning rate: 0.000001\n",
      "\n",
      "Train on 584 samples, validate on 251 samples\n",
      "Epoch 1/20\n",
      "584/584 [==============================] - 1s 2ms/sample - loss: 0.6934 - accuracy: 0.5479 - val_loss: 0.6962 - val_accuracy: 0.5697\n",
      "Epoch 2/20\n",
      "584/584 [==============================] - 0s 236us/sample - loss: 0.6934 - accuracy: 0.5479 - val_loss: 0.6961 - val_accuracy: 0.5697\n",
      "Epoch 3/20\n",
      "584/584 [==============================] - 0s 228us/sample - loss: 0.6934 - accuracy: 0.5479 - val_loss: 0.6961 - val_accuracy: 0.5697\n",
      "Epoch 4/20\n",
      "584/584 [==============================] - 0s 240us/sample - loss: 0.6934 - accuracy: 0.5479 - val_loss: 0.6961 - val_accuracy: 0.5697\n",
      "Epoch 5/20\n",
      "584/584 [==============================] - 0s 233us/sample - loss: 0.6934 - accuracy: 0.5479 - val_loss: 0.6961 - val_accuracy: 0.5697\n",
      "Epoch 6/20\n",
      "584/584 [==============================] - 0s 238us/sample - loss: 0.6933 - accuracy: 0.5479 - val_loss: 0.6961 - val_accuracy: 0.5697\n",
      "Epoch 7/20\n",
      "584/584 [==============================] - 0s 287us/sample - loss: 0.6933 - accuracy: 0.5462 - val_loss: 0.6960 - val_accuracy: 0.5697\n",
      "Epoch 8/20\n",
      "584/584 [==============================] - 0s 289us/sample - loss: 0.6933 - accuracy: 0.5462 - val_loss: 0.6960 - val_accuracy: 0.5697\n",
      "Epoch 9/20\n",
      "584/584 [==============================] - 0s 323us/sample - loss: 0.6933 - accuracy: 0.5462 - val_loss: 0.6960 - val_accuracy: 0.5697\n",
      "Epoch 10/20\n",
      "584/584 [==============================] - 0s 319us/sample - loss: 0.6933 - accuracy: 0.5462 - val_loss: 0.6960 - val_accuracy: 0.5697\n",
      "Epoch 11/20\n",
      "584/584 [==============================] - 0s 339us/sample - loss: 0.6932 - accuracy: 0.5462 - val_loss: 0.6960 - val_accuracy: 0.5697\n",
      "Epoch 12/20\n",
      "584/584 [==============================] - 0s 297us/sample - loss: 0.6932 - accuracy: 0.5462 - val_loss: 0.6960 - val_accuracy: 0.5697\n",
      "Epoch 13/20\n",
      "584/584 [==============================] - 0s 269us/sample - loss: 0.6932 - accuracy: 0.5462 - val_loss: 0.6959 - val_accuracy: 0.5737\n",
      "Epoch 14/20\n",
      "584/584 [==============================] - 0s 228us/sample - loss: 0.6932 - accuracy: 0.5462 - val_loss: 0.6959 - val_accuracy: 0.5737\n",
      "Epoch 15/20\n",
      "584/584 [==============================] - 0s 236us/sample - loss: 0.6932 - accuracy: 0.5462 - val_loss: 0.6959 - val_accuracy: 0.5737\n",
      "Epoch 16/20\n",
      "584/584 [==============================] - 0s 255us/sample - loss: 0.6931 - accuracy: 0.5462 - val_loss: 0.6959 - val_accuracy: 0.5737\n",
      "Epoch 17/20\n",
      "584/584 [==============================] - 0s 205us/sample - loss: 0.6931 - accuracy: 0.5462 - val_loss: 0.6959 - val_accuracy: 0.5737\n",
      "Epoch 18/20\n",
      "584/584 [==============================] - 0s 280us/sample - loss: 0.6931 - accuracy: 0.5462 - val_loss: 0.6958 - val_accuracy: 0.5737\n",
      "Epoch 19/20\n",
      "584/584 [==============================] - 0s 263us/sample - loss: 0.6931 - accuracy: 0.5462 - val_loss: 0.6958 - val_accuracy: 0.5737\n",
      "Epoch 20/20\n",
      "584/584 [==============================] - 0s 338us/sample - loss: 0.6930 - accuracy: 0.5462 - val_loss: 0.6958 - val_accuracy: 0.5737\n",
      "\n",
      "\n",
      "Testing model with learning rate: 0.010000\n",
      "\n",
      "Train on 584 samples, validate on 251 samples\n",
      "Epoch 1/20\n",
      "584/584 [==============================] - 1s 2ms/sample - loss: 0.7117 - accuracy: 0.5086 - val_loss: 0.6711 - val_accuracy: 0.6096\n",
      "Epoch 2/20\n",
      "584/584 [==============================] - 0s 276us/sample - loss: 0.6316 - accuracy: 0.6712 - val_loss: 0.6424 - val_accuracy: 0.6414\n",
      "Epoch 3/20\n",
      "584/584 [==============================] - 0s 254us/sample - loss: 0.6055 - accuracy: 0.7140 - val_loss: 0.6241 - val_accuracy: 0.6574\n",
      "Epoch 4/20\n",
      "584/584 [==============================] - 0s 285us/sample - loss: 0.5875 - accuracy: 0.7312 - val_loss: 0.6099 - val_accuracy: 0.6892\n",
      "Epoch 5/20\n",
      "584/584 [==============================] - 0s 259us/sample - loss: 0.5731 - accuracy: 0.7449 - val_loss: 0.5990 - val_accuracy: 0.7052\n",
      "Epoch 6/20\n",
      "584/584 [==============================] - 0s 263us/sample - loss: 0.5601 - accuracy: 0.7568 - val_loss: 0.5880 - val_accuracy: 0.7251\n",
      "Epoch 7/20\n",
      "584/584 [==============================] - 0s 240us/sample - loss: 0.5485 - accuracy: 0.7860 - val_loss: 0.5784 - val_accuracy: 0.7371\n",
      "Epoch 8/20\n",
      "584/584 [==============================] - 0s 244us/sample - loss: 0.5382 - accuracy: 0.7911 - val_loss: 0.5708 - val_accuracy: 0.7450\n",
      "Epoch 9/20\n",
      "584/584 [==============================] - 0s 317us/sample - loss: 0.5293 - accuracy: 0.7877 - val_loss: 0.5622 - val_accuracy: 0.7490\n",
      "Epoch 10/20\n",
      "584/584 [==============================] - 0s 248us/sample - loss: 0.5207 - accuracy: 0.7945 - val_loss: 0.5546 - val_accuracy: 0.7530\n",
      "Epoch 11/20\n",
      "584/584 [==============================] - 0s 267us/sample - loss: 0.5129 - accuracy: 0.7962 - val_loss: 0.5499 - val_accuracy: 0.7410\n",
      "Epoch 12/20\n",
      "584/584 [==============================] - 0s 237us/sample - loss: 0.5063 - accuracy: 0.7962 - val_loss: 0.5441 - val_accuracy: 0.7490\n",
      "Epoch 13/20\n",
      "584/584 [==============================] - 0s 237us/sample - loss: 0.4992 - accuracy: 0.7997 - val_loss: 0.5389 - val_accuracy: 0.7450\n",
      "Epoch 14/20\n",
      "584/584 [==============================] - 0s 252us/sample - loss: 0.4933 - accuracy: 0.7962 - val_loss: 0.5346 - val_accuracy: 0.7450\n",
      "Epoch 15/20\n",
      "584/584 [==============================] - 0s 221us/sample - loss: 0.4887 - accuracy: 0.7997 - val_loss: 0.5307 - val_accuracy: 0.7490\n",
      "Epoch 16/20\n",
      "584/584 [==============================] - 0s 243us/sample - loss: 0.4836 - accuracy: 0.8014 - val_loss: 0.5271 - val_accuracy: 0.7490\n",
      "Epoch 17/20\n",
      "584/584 [==============================] - 0s 270us/sample - loss: 0.4799 - accuracy: 0.7997 - val_loss: 0.5243 - val_accuracy: 0.7610\n",
      "Epoch 18/20\n",
      "584/584 [==============================] - 0s 259us/sample - loss: 0.4760 - accuracy: 0.8048 - val_loss: 0.5207 - val_accuracy: 0.7570\n",
      "Epoch 19/20\n",
      "584/584 [==============================] - 0s 351us/sample - loss: 0.4721 - accuracy: 0.8048 - val_loss: 0.5179 - val_accuracy: 0.7610\n",
      "Epoch 20/20\n",
      "584/584 [==============================] - 0s 242us/sample - loss: 0.4700 - accuracy: 0.8048 - val_loss: 0.5165 - val_accuracy: 0.7570\n",
      "\n",
      "\n",
      "Testing model with learning rate: 1.000000\n",
      "\n",
      "Train on 584 samples, validate on 251 samples\n",
      "Epoch 1/20\n",
      "584/584 [==============================] - 2s 3ms/sample - loss: 0.6627 - accuracy: 0.6644 - val_loss: 0.5614 - val_accuracy: 0.7371\n",
      "Epoch 2/20\n",
      "584/584 [==============================] - 0s 226us/sample - loss: 0.5423 - accuracy: 0.7500 - val_loss: 0.7732 - val_accuracy: 0.4223\n",
      "Epoch 3/20\n",
      "584/584 [==============================] - 0s 280us/sample - loss: 0.5436 - accuracy: 0.7500 - val_loss: 0.5393 - val_accuracy: 0.7689\n",
      "Epoch 4/20\n",
      "584/584 [==============================] - 0s 254us/sample - loss: 0.5000 - accuracy: 0.7791 - val_loss: 0.4939 - val_accuracy: 0.7570\n",
      "Epoch 5/20\n",
      "584/584 [==============================] - 0s 272us/sample - loss: 0.4681 - accuracy: 0.7945 - val_loss: 0.7236 - val_accuracy: 0.7092\n",
      "Epoch 6/20\n",
      "584/584 [==============================] - 0s 235us/sample - loss: 0.4992 - accuracy: 0.7997 - val_loss: 0.5264 - val_accuracy: 0.7490\n"
     ]
    }
   ],
   "source": [
    "early_stopping_monitor = keras.callbacks.EarlyStopping(patience=2)\n",
    "\n",
    "for lr in lr_to_test:\n",
    "    print('\\n\\nTesting model with learning rate: %f\\n'%lr )\n",
    "    model = get_new_model()\n",
    "    my_optimizer = keras.optimizers.SGD(lr=lr)\n",
    "    model.compile(optimizer=my_optimizer, loss='categorical_crossentropy', metrics=['accuracy'])\n",
    "    model.fit(predictors_train, target_train, \n",
    "              epochs=20,\n",
    "              callbacks=[early_stopping_monitor],\n",
    "              validation_split=0.3)"
   ]
  },
  {
   "cell_type": "markdown",
   "metadata": {},
   "source": [
    "## Comparison of different models"
   ]
  },
  {
   "cell_type": "markdown",
   "metadata": {},
   "source": [
    "Create the first model with some specific attributes"
   ]
  },
  {
   "cell_type": "code",
   "execution_count": 657,
   "metadata": {},
   "outputs": [],
   "source": [
    "model_1 = keras.Sequential()\n",
    "model_1.add(keras.layers.Dense(30, activation='relu', input_shape=(n_cols,)))\n",
    "model_1.add(keras.layers.Dense(10, activation='relu'))\n",
    "model_1.add(keras.layers.Dense(2, activation='softmax'))\n",
    "model_1.compile(optimizer='adam', loss='categorical_crossentropy', metrics=['accuracy'])"
   ]
  },
  {
   "cell_type": "markdown",
   "metadata": {},
   "source": [
    "Create the second model"
   ]
  },
  {
   "cell_type": "code",
   "execution_count": 658,
   "metadata": {},
   "outputs": [],
   "source": [
    "model_2 = keras.Sequential()\n",
    "model_2.add(keras.layers.Dense(1000, activation='relu', input_shape=(n_cols,)))\n",
    "model_2.add(keras.layers.Dense(100, activation='relu'))\n",
    "model_2.add(keras.layers.Dense(50, activation='relu'))\n",
    "model_2.add(keras.layers.Dense(2, activation='softmax'))\n",
    "model_2.compile(optimizer=my_optimizer, loss='categorical_crossentropy', metrics=['accuracy'])"
   ]
  },
  {
   "cell_type": "markdown",
   "metadata": {},
   "source": [
    "Fit those models for comparison"
   ]
  },
  {
   "cell_type": "code",
   "execution_count": 665,
   "metadata": {},
   "outputs": [
    {
     "name": "stdout",
     "output_type": "stream",
     "text": [
      "Train on 668 samples, validate on 167 samples\n",
      "Epoch 1/15\n",
      "668/668 [==============================] - 0s 173us/sample - loss: 0.4063 - accuracy: 0.8249 - val_loss: 0.4710 - val_accuracy: 0.7964\n",
      "Epoch 2/15\n",
      "668/668 [==============================] - 0s 148us/sample - loss: 0.4046 - accuracy: 0.8293 - val_loss: 0.4709 - val_accuracy: 0.8024\n",
      "Epoch 3/15\n",
      "668/668 [==============================] - 0s 167us/sample - loss: 0.4005 - accuracy: 0.8263 - val_loss: 0.4704 - val_accuracy: 0.7964\n",
      "Epoch 4/15\n",
      "668/668 [==============================] - 0s 151us/sample - loss: 0.3992 - accuracy: 0.8278 - val_loss: 0.4712 - val_accuracy: 0.8024\n",
      "Epoch 5/15\n",
      "668/668 [==============================] - 0s 147us/sample - loss: 0.3991 - accuracy: 0.8323 - val_loss: 0.4707 - val_accuracy: 0.8024\n",
      "Train on 668 samples, validate on 167 samples\n",
      "Epoch 1/15\n",
      "668/668 [==============================] - 0s 283us/sample - loss: 0.4953 - accuracy: 0.7919 - val_loss: 0.5163 - val_accuracy: 0.7784\n",
      "Epoch 2/15\n",
      "668/668 [==============================] - 0s 280us/sample - loss: 0.4741 - accuracy: 0.8054 - val_loss: 0.4836 - val_accuracy: 0.7725\n",
      "Epoch 3/15\n",
      "668/668 [==============================] - 0s 273us/sample - loss: 0.5305 - accuracy: 0.7650 - val_loss: 0.5625 - val_accuracy: 0.7305\n",
      "Epoch 4/15\n",
      "668/668 [==============================] - 0s 245us/sample - loss: 0.4959 - accuracy: 0.7799 - val_loss: 0.4740 - val_accuracy: 0.7784\n",
      "Epoch 5/15\n",
      "668/668 [==============================] - 0s 242us/sample - loss: 0.4689 - accuracy: 0.7919 - val_loss: 0.4861 - val_accuracy: 0.7665\n",
      "Epoch 6/15\n",
      "668/668 [==============================] - 0s 245us/sample - loss: 0.4357 - accuracy: 0.8159 - val_loss: 0.5632 - val_accuracy: 0.7425\n"
     ]
    }
   ],
   "source": [
    "model_1_training = model_1.fit(predictors_train, target_train, epochs=15, \n",
    "                               validation_split=0.2, callbacks=[early_stopping_monitor], \n",
    "                               verbose=True)\n",
    "\n",
    "model_2_training = model_2.fit(predictors_train, target_train, epochs=15, \n",
    "                               validation_split=0.2, callbacks=[early_stopping_monitor], \n",
    "                               verbose=True)"
   ]
  },
  {
   "cell_type": "markdown",
   "metadata": {},
   "source": [
    "Create a graph to compare models. A model that has lower loss value is the better model. "
   ]
  },
  {
   "cell_type": "code",
   "execution_count": 664,
   "metadata": {},
   "outputs": [
    {
     "data": {
      "image/png": "[encoded data removed]",
      "text/plain": [
       "<Figure size 432x288 with 1 Axes>"
      ]
     },
     "metadata": {
      "needs_background": "light"
     },
     "output_type": "display_data"
    }
   ],
   "source": [
    "# Create the plot\n",
    "#plt.plot(model_1_training.history['val_loss'], 'r', model_2_training.history['val_loss'], 'b')\n",
    "plt.plot(model_1_training.history['val_loss'], linestyle='--', label='model_1')\n",
    "plt.plot(model_2_training.history['val_loss'], marker='.', label='model_2')\n",
    "plt.xlabel('Epochs')\n",
    "plt.ylabel('Loss value')\n",
    "plt.legend()\n",
    "plt.show()"
   ]
  },
  {
   "cell_type": "code",
   "execution_count": null,
   "metadata": {},
   "outputs": [],
   "source": []
  },
  {
   "cell_type": "code",
   "execution_count": null,
   "metadata": {},
   "outputs": [],
   "source": []
  },
  {
   "cell_type": "code",
   "execution_count": null,
   "metadata": {},
   "outputs": [],
   "source": []
  },
  {
   "cell_type": "code",
   "execution_count": null,
   "metadata": {},
   "outputs": [],
   "source": []
  },
  {
   "cell_type": "code",
   "execution_count": null,
   "metadata": {},
   "outputs": [],
   "source": []
  },
  {
   "cell_type": "code",
   "execution_count": null,
   "metadata": {},
   "outputs": [],
   "source": []
  },
  {
   "cell_type": "code",
   "execution_count": null,
   "metadata": {},
   "outputs": [],
   "source": []
  },
  {
   "cell_type": "code",
   "execution_count": null,
   "metadata": {},
   "outputs": [],
   "source": []
  },
  {
   "cell_type": "code",
   "execution_count": null,
   "metadata": {},
   "outputs": [],
   "source": []
  },
  {
   "cell_type": "markdown",
   "metadata": {},
   "source": [
    "## Saving and reloading a model"
   ]
  },
  {
   "cell_type": "code",
   "execution_count": 250,
   "metadata": {},
   "outputs": [],
   "source": [
    "model.save('model_file.h5')"
   ]
  },
  {
   "cell_type": "code",
   "execution_count": 252,
   "metadata": {},
   "outputs": [],
   "source": [
    "my_model = keras.models.load_model('model_file.h5')"
   ]
  },
  {
   "cell_type": "code",
   "execution_count": null,
   "metadata": {},
   "outputs": [],
   "source": [
    "predictions = my_model.predict()"
   ]
  },
  {
   "cell_type": "code",
   "execution_count": null,
   "metadata": {},
   "outputs": [],
   "source": [
    "probability_true = predictions[:,1]"
   ]
  }
 ],
 "metadata": {
  "kernelspec": {
   "display_name": "Python 3",
   "language": "python",
   "name": "python3"
  },
  "language_info": {
   "codemirror_mode": {
    "name": "ipython",
    "version": 3
   },
   "file_extension": ".py",
   "mimetype": "text/x-python",
   "name": "python",
   "nbconvert_exporter": "python",
   "pygments_lexer": "ipython3",
   "version": "3.7.3"
  }
 },
 "nbformat": 4,
 "nbformat_minor": 2
}
